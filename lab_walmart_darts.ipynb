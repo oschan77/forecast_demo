{
 "cells": [
  {
   "cell_type": "code",
   "execution_count": 3,
   "metadata": {},
   "outputs": [],
   "source": [
    "import pandas as pd\n",
    "import numpy as np\n",
    "import matplotlib.pyplot as plt\n",
    "\n",
    "from darts import TimeSeries\n",
    "from darts.models import *\n",
    "from darts.metrics import *\n",
    "from darts.ad import *\n",
    "from darts.models import GlobalNaiveAggregate, GlobalNaiveDrift, GlobalNaiveSeasonal\n",
    "\n",
    "import os"
   ]
  },
  {
   "cell_type": "code",
   "execution_count": 6,
   "metadata": {},
   "outputs": [],
   "source": [
    "def forecast_and_plot(model, series_train, series_val, n_jobs=True, plot=False):\n",
    "    if n_jobs:\n",
    "        pred = model.predict(n=len(series_val), series=series_train, n_jobs=-1)\n",
    "    else:\n",
    "        pred = model.predict(n=len(series_val), series=series_train)\n",
    "\n",
    "    mape_loss = mape(series_val, pred)\n",
    "    mae_loss = mae(series_val, pred)\n",
    "\n",
    "    # print(f\"model {model} obtains MAPE: {mape_loss}\")\n",
    "    # print(f\"model {model} obtains MAE: {mae_loss}\")\n",
    "\n",
    "    if plot:\n",
    "        fig, ax = plt.subplots(figsize=(30, 5))\n",
    "        series_train.plot(label=\"train\")\n",
    "        series_val.plot(label=\"true\")\n",
    "        pred.plot(label=\"prediction\")\n",
    "\n",
    "    return mape_loss, mae_loss\n",
    "\n",
    "\n",
    "def process_file(file_path):\n",
    "    df = pd.read_csv(file_path)\n",
    "    df[\"Date\"] = pd.to_datetime(df[\"Date\"])\n",
    "    df.set_index(\"Date\", inplace=True)\n",
    "    df = df.resample(\"W\").ffill()\n",
    "    file_name = os.path.basename(file_path)\n",
    "    base_name = os.path.splitext(file_name)[0]\n",
    "    df.to_csv(f\"data/processed/walmart_sales/bySD_fillDates/{base_name}.csv\")\n",
    "\n",
    "\n",
    "def process_files_in_directory(directory):\n",
    "    for root, dirs, files in os.walk(directory):\n",
    "        for file in files:\n",
    "            file_path = os.path.join(root, file)\n",
    "            process_file(file_path)\n",
    "\n",
    "\n",
    "def load_all_timeseries(dir_path):\n",
    "    all_files = []\n",
    "    all_series = []\n",
    "    train_series = []\n",
    "    val_series = []\n",
    "    for root, dirs, files in os.walk(dir_path):\n",
    "        for file in files:\n",
    "            file_path = os.path.join(root, file)\n",
    "            ts = TimeSeries.from_csv(\n",
    "                file_path,\n",
    "                time_col=\"Date\",\n",
    "                value_cols=\"Weekly_Sales\",\n",
    "                freq=\"W-FRI\",\n",
    "            )\n",
    "            train_ts, val_ts = ts.split_before(0.80)\n",
    "\n",
    "            all_files.append(file)\n",
    "            all_series.append(ts)\n",
    "            train_series.append(train_ts)\n",
    "            val_series.append(val_ts)\n",
    "\n",
    "    return all_files, all_series, train_series, val_series\n",
    "\n",
    "\n",
    "def eval_on_all_series(model, train_series, val_series, n_jobs=True):\n",
    "    mape_losses, mae_losses = [], []\n",
    "    for i in range(len(val_series)):\n",
    "        mape_loss, mae_loss = forecast_and_plot(\n",
    "            model=model,\n",
    "            series_train=train_series[i],\n",
    "            series_val=val_series[i],\n",
    "            n_jobs=n_jobs,\n",
    "            plot=False,\n",
    "        )\n",
    "        mape_losses.append(mape_loss)\n",
    "        mae_losses.append(mae_loss)\n",
    "\n",
    "    print(f\"mean MAPE: {np.mean(mape_losses)}\")\n",
    "    print(f\"mean MAE: {np.mean(mae_losses)}\")\n",
    "\n",
    "    return mape_losses, mae_losses\n",
    "\n",
    "\n",
    "def print_losses(model_name, mape_losses, mae_losses):\n",
    "    print(f\"{model_name}:\")\n",
    "    print(f\"mean MAPE: {np.mean(mape_losses)}\")\n",
    "    print(f\"mean MAE: {np.mean(mae_losses)}\")"
   ]
  },
  {
   "cell_type": "code",
   "execution_count": 7,
   "metadata": {},
   "outputs": [],
   "source": [
    "all_files, all_series, train_series, val_series = load_all_timeseries(\n",
    "    \"data/processed/walmart_sales/BySD\"\n",
    ")"
   ]
  },
  {
   "cell_type": "code",
   "execution_count": null,
   "metadata": {},
   "outputs": [],
   "source": [
    "linear_regression_model = LinearRegressionModel(\n",
    "    lags=64,\n",
    "    output_chunk_length=1,\n",
    ")\n",
    "linear_regression_model.fit(train_series)\n",
    "# linear_regression_model.save(\"linear_regression.pkl\")\n",
    "# linear_regression_mape_losses, linear_regression_mae_losses = eval_on_all_series(\n",
    "#     linear_regression_model, train_series, val_series, n_jobs=False\n",
    "# )"
   ]
  },
  {
   "cell_type": "code",
   "execution_count": null,
   "metadata": {},
   "outputs": [],
   "source": [
    "print_losses(\n",
    "    \"linear_regression_model\",\n",
    "    linear_regression_mape_losses,\n",
    "    linear_regression_mae_losses,\n",
    ")"
   ]
  },
  {
   "cell_type": "code",
   "execution_count": null,
   "metadata": {},
   "outputs": [],
   "source": [
    "nhits_model = NHiTSModel(\n",
    "    input_chunk_length=64,\n",
    "    output_chunk_length=1,\n",
    "    pl_trainer_kwargs={\"accelerator\": \"gpu\", \"devices\": -1, \"strategy\": \"ddp\"},\n",
    ")\n",
    "nhits_model.fit(train_series, epochs=2, verbose=True)\n",
    "nhits_model.save(\"nhits.pkl\")\n",
    "nhits_mape_losses, nhits_mae_losses = eval_on_all_series(\n",
    "    nhits_model, train_series, val_series\n",
    ")"
   ]
  },
  {
   "cell_type": "code",
   "execution_count": null,
   "metadata": {},
   "outputs": [],
   "source": []
  },
  {
   "cell_type": "code",
   "execution_count": null,
   "metadata": {},
   "outputs": [],
   "source": [
    "print_losses(\"nhits_model\", nhits_mape_losses, nhits_mae_losses)"
   ]
  },
  {
   "cell_type": "code",
   "execution_count": null,
   "metadata": {},
   "outputs": [],
   "source": [
    "dlinear_model = DLinearModel(input_chunk_length=64, output_chunk_length=1)\n",
    "dlinear_model.fit(train_series, epochs=200, verbose=False)\n",
    "dlinear_model.save(\"dlinear.pkl\")\n",
    "dlinear_mape_losses, dlinear_mae_losses = eval_on_all_series(\n",
    "    dlinear_model, train_series, val_series\n",
    ")"
   ]
  },
  {
   "cell_type": "code",
   "execution_count": null,
   "metadata": {},
   "outputs": [],
   "source": [
    "print_losses(\"dlinear_model\", dlinear_mape_losses, dlinear_mae_losses)"
   ]
  },
  {
   "cell_type": "code",
   "execution_count": null,
   "metadata": {},
   "outputs": [],
   "source": [
    "nbeats_model = NBEATSModel(input_chunk_length=64, output_chunk_length=1)\n",
    "nbeats_model.fit(train_series, epochs=200, verbose=False)\n",
    "nbeats_model.save(\"nbeats.pkl\")\n",
    "nbeats_mape_losses, nbeats_mae_losses = eval_on_all_series(\n",
    "    nbeats_model, train_series, val_series\n",
    ")"
   ]
  },
  {
   "cell_type": "code",
   "execution_count": null,
   "metadata": {},
   "outputs": [],
   "source": [
    "print_losses(\"nbeats_model\", nbeats_mape_losses, nbeats_mae_losses)"
   ]
  },
  {
   "cell_type": "code",
   "execution_count": null,
   "metadata": {},
   "outputs": [],
   "source": [
    "nlinear_model = NLinearModel(input_chunk_length=64, output_chunk_length=1)\n",
    "nlinear_model.fit(train_series, epochs=200, verbose=True)\n",
    "nlinear_model.save(\"nlinear.pkl\")\n",
    "nlinear_mape_losses, nlinear_mae_losses = eval_on_all_series(\n",
    "    nlinear_model, train_series, val_series\n",
    ")"
   ]
  },
  {
   "cell_type": "code",
   "execution_count": null,
   "metadata": {},
   "outputs": [],
   "source": [
    "print_losses(\"nlinear_model\", nlinear_mape_losses, nlinear_mae_losses)"
   ]
  },
  {
   "cell_type": "code",
   "execution_count": null,
   "metadata": {},
   "outputs": [],
   "source": [
    "rnn_model = RNNModel(input_chunk_length=24, output_chunk_length=1)\n",
    "rnn_model.fit(train_series, epochs=100, verbose=True)\n",
    "rnn_model.save(\"rnn.pkl\")\n",
    "rnn_mape_losses, rnn_mae_losses = eval_on_all_series(\n",
    "    rnn_model, train_series, val_series\n",
    ")"
   ]
  },
  {
   "cell_type": "code",
   "execution_count": 5,
   "metadata": {},
   "outputs": [
    {
     "name": "stdout",
     "output_type": "stream",
     "text": [
      "rnn_model:\n",
      "mean MSE: 443730315.2365976\n",
      "mean MAE: 9471.355253953812\n"
     ]
    }
   ],
   "source": [
    "print_losses(\"rnn_model\", rnn_mape_losses, rnn_mae_losses)"
   ]
  },
  {
   "cell_type": "code",
   "execution_count": null,
   "metadata": {},
   "outputs": [],
   "source": [
    "naive_agg_model = GlobalNaiveAggregate(input_chunk_length=64, output_chunk_length=1)\n",
    "naive_agg_model.fit(train_series, epochs=200, verbose=True)\n",
    "# naive_agg_model.save(\"naive_agg.pkl\")\n",
    "naive_agg_mape_losses, naive_agg_mae_losses = eval_on_all_series(\n",
    "    naive_agg_model, train_series, val_series\n",
    ")"
   ]
  },
  {
   "cell_type": "code",
   "execution_count": null,
   "metadata": {},
   "outputs": [],
   "source": [
    "print_losses(\"naive_agg_model\", naive_agg_mape_losses, naive_agg_mae_losses)"
   ]
  },
  {
   "cell_type": "code",
   "execution_count": null,
   "metadata": {},
   "outputs": [],
   "source": [
    "naive_drift_model = GlobalNaiveDrift(input_chunk_length=64, output_chunk_length=1)\n",
    "naive_drift_model.fit(train_series, epochs=200, verbose=True)\n",
    "# naive_drift_model.save(\"naive_drift.pkl\")\n",
    "naive_drift_mape_losses, naive_drift_mae_losses = eval_on_all_series(\n",
    "    naive_drift_model, train_series, val_series\n",
    ")"
   ]
  },
  {
   "cell_type": "code",
   "execution_count": null,
   "metadata": {},
   "outputs": [],
   "source": [
    "print_losses(\"naive_drift_model\", naive_drift_mape_losses, naive_drift_mae_losses)"
   ]
  },
  {
   "cell_type": "code",
   "execution_count": null,
   "metadata": {},
   "outputs": [],
   "source": [
    "naive_season_model = GlobalNaiveSeasonal(input_chunk_length=64, output_chunk_length=1)\n",
    "naive_season_model.fit(train_series, epochs=200, verbose=True)\n",
    "# naive_season_model.save(\"naive_season.pkl\")\n",
    "naive_season_mape_losses, naive_season_mae_losses = eval_on_all_series(\n",
    "    naive_season_model, train_series, val_series\n",
    ")"
   ]
  },
  {
   "cell_type": "code",
   "execution_count": null,
   "metadata": {},
   "outputs": [],
   "source": [
    "print_losses(\"naive_season_model\", naive_season_mape_losses, naive_season_mae_losses)"
   ]
  },
  {
   "cell_type": "code",
   "execution_count": null,
   "metadata": {},
   "outputs": [],
   "source": []
  },
  {
   "cell_type": "code",
   "execution_count": 10,
   "metadata": {},
   "outputs": [
    {
     "data": {
      "image/png": "[encoded data removed]",
      "text/plain": [
       "<Figure size 1000x600 with 1 Axes>"
      ]
     },
     "metadata": {},
     "output_type": "display_data"
    },
    {
     "name": "stdout",
     "output_type": "stream",
     "text": [
      "Minimum Weekly Sales: 0.01\n",
      "Maximum Weekly Sales: 693099.36\n",
      "Mean Weekly Sales: 15982.617027333008\n",
      "Median Weekly Sales: 7612.92\n",
      "25th Percentile of Weekly Sales: 2080.52\n",
      "75th Percentile of Weekly Sales: 20206.365\n",
      "Standard Deviation of Weekly Sales: 22711.003589133878\n"
     ]
    }
   ],
   "source": [
    "import pandas as pd\n",
    "import matplotlib.pyplot as plt\n",
    "\n",
    "df = pd.read_csv(\"data/processed/walmart_sales/train_processed.csv\")\n",
    "\n",
    "plt.figure(figsize=(10, 6))\n",
    "plt.hist(df[\"Weekly_Sales\"], bins=100, edgecolor=\"k\", alpha=0.7)\n",
    "plt.title(\"Distribution of Weekly Sales\")\n",
    "plt.xlabel(\"Weekly Sales\")\n",
    "plt.ylabel(\"Frequency\")\n",
    "plt.grid(True)\n",
    "plt.show()\n",
    "\n",
    "min_sales = df[\"Weekly_Sales\"].min()\n",
    "max_sales = df[\"Weekly_Sales\"].max()\n",
    "std_sales = df[\"Weekly_Sales\"].std()\n",
    "mean_sales = df[\"Weekly_Sales\"].mean()\n",
    "percentile_25 = df[\"Weekly_Sales\"].quantile(0.25)\n",
    "percentile_75 = df[\"Weekly_Sales\"].quantile(0.75)\n",
    "median_sales = df[\"Weekly_Sales\"].median()\n",
    "\n",
    "print(f\"Minimum Weekly Sales: {min_sales}\")\n",
    "print(f\"Maximum Weekly Sales: {max_sales}\")\n",
    "print(f\"Mean Weekly Sales: {mean_sales}\")\n",
    "print(f\"Median Weekly Sales: {median_sales}\")\n",
    "print(f\"25th Percentile of Weekly Sales: {percentile_25}\")\n",
    "print(f\"75th Percentile of Weekly Sales: {percentile_75}\")\n",
    "print(f\"Standard Deviation of Weekly Sales: {std_sales}\")"
   ]
  },
  {
   "cell_type": "code",
   "execution_count": null,
   "metadata": {},
   "outputs": [],
   "source": []
  },
  {
   "cell_type": "code",
   "execution_count": null,
   "metadata": {},
   "outputs": [],
   "source": []
  }
 ],
 "metadata": {
  "kernelspec": {
   "display_name": "forecast",
   "language": "python",
   "name": "python3"
  },
  "language_info": {
   "codemirror_mode": {
    "name": "ipython",
    "version": 3
   },
   "file_extension": ".py",
   "mimetype": "text/x-python",
   "name": "python",
   "nbconvert_exporter": "python",
   "pygments_lexer": "ipython3",
   "version": "3.10.14"
  }
 },
 "nbformat": 4,
 "nbformat_minor": 2
}
